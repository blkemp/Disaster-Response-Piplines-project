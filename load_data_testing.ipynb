{
 "cells": [
  {
   "cell_type": "code",
   "execution_count": 3,
   "metadata": {},
   "outputs": [
    {
     "name": "stderr",
     "output_type": "stream",
     "text": [
      "[nltk_data] Downloading package punkt to\n",
      "[nltk_data]     C:\\Users\\kempbri\\AppData\\Roaming\\nltk_data...\n",
      "[nltk_data]   Package punkt is already up-to-date!\n",
      "[nltk_data] Downloading package wordnet to\n",
      "[nltk_data]     C:\\Users\\kempbri\\AppData\\Roaming\\nltk_data...\n",
      "[nltk_data]   Package wordnet is already up-to-date!\n",
      "[nltk_data] Downloading package averaged_perceptron_tagger to\n",
      "[nltk_data]     C:\\Users\\kempbri\\AppData\\Roaming\\nltk_data...\n",
      "[nltk_data]   Package averaged_perceptron_tagger is already up-to-\n",
      "[nltk_data]       date!\n",
      "[nltk_data] Downloading package stopwords to\n",
      "[nltk_data]     C:\\Users\\kempbri\\AppData\\Roaming\\nltk_data...\n",
      "[nltk_data]   Package stopwords is already up-to-date!\n"
     ]
    }
   ],
   "source": [
    "import sys\n",
    "# import libraries\n",
    "import pandas as pd\n",
    "import numpy as np\n",
    "from sqlalchemy import create_engine\n",
    "import nltk\n",
    "from nltk.tokenize import word_tokenize, sent_tokenize\n",
    "from nltk.corpus import stopwords\n",
    "from nltk.stem import WordNetLemmatizer\n",
    "nltk.download(['punkt', 'wordnet', 'averaged_perceptron_tagger', 'stopwords'])\n",
    "\n",
    "def load_data(messages_filepath, categories_filepath):\n",
    "    '''\n",
    "    Loads two csv files - messages and categories and returns as a merged dataframe\n",
    "    With columns for original message text and True/False integer values regarding the \n",
    "    applicability of 36 category types.\n",
    "    '''\n",
    "    # read in messages data \n",
    "    df = pd.read_csv(messages_filepath)\n",
    "    #OneHotEncode genre column\n",
    "    df = df.merge(\n",
    "        pd.get_dummies(df, columns=['genre'], drop_first=False).drop(['message','original'], axis=1),\n",
    "        on='id')\n",
    "\n",
    "    # load categories data\n",
    "    categories = pd.read_csv(categories_filepath)\n",
    "\n",
    "    # create a dataframe of the 36 individual category columns\n",
    "    categories = pd.concat([categories, \n",
    "                            categories['categories'].str.split(';',expand=True)],\n",
    "                            axis=1).drop('categories', axis=1)\n",
    "\n",
    "    # use first row to extract a list of new column names for categories.\n",
    "    row = categories.iloc[0,1:]\n",
    "    category_colnames = [item[0] for item in np.array(row.str.split('-'))]\n",
    "    categories.columns = ['id'] + category_colnames\n",
    "\n",
    "    # set each value to be the last character of the string\n",
    "    for column in categories:    \n",
    "        if column != 'id':\n",
    "            categories[column] = categories.loc[:,column].str[-1].astype('int')\n",
    "    \n",
    "    # merge category data with raw messages\n",
    "    df = df.merge(categories, on='id')\n",
    "    return df\n",
    "\n",
    "def clean_data(df):\n",
    "    '''\n",
    "    Takes a dataframe and:\n",
    "    1. Removes any duplicates\n",
    "    2. Ensures category data is only binary (sets any values other than 0 or 1 to 1)\n",
    "    3. Removes features with zero variation (e.g. all category values are 0)\n",
    "    '''\n",
    "    # drop duplicates\n",
    "    df.drop_duplicates(inplace=True)\n",
    "\n",
    "    response_columns = set(df.columns) - set({'id','message','original','genre'})\n",
    "    # Ensure response columns are binary\n",
    "    for column in response_columns:\n",
    "        a = np.array(df[column].values.tolist())\n",
    "        df[column] = ((a > 0)*1).tolist()\n",
    "\n",
    "    # drop columns with no variation     \n",
    "    for column in response_columns:\n",
    "        if len(df[column].value_counts()) < 2:\n",
    "            df.drop(column, axis=1, inplace=True)\n",
    "    \n",
    "    # drop columns not used in analysis ## Deprecating for now just in case graphing is wanted later\n",
    "    #drop_columns = set(df.columns) - set(['id','message'])\n",
    "    #drop_columns -= response_columns\n",
    "    #df.drop(drop_columns, axis=1, inplace=True)\n",
    "\n",
    "    return df\n",
    "\n",
    "def save_data(df, database_filename):\n",
    "    '''\n",
    "    Saves a given dataframe as a table in a SQLite database file \n",
    "    '''\n",
    "    engine = create_engine('sqlite:///{}'.format(database_filename))\n",
    "    df.to_sql('InsertTableName', engine, index=False) "
   ]
  },
  {
   "cell_type": "code",
   "execution_count": 4,
   "metadata": {},
   "outputs": [
    {
     "name": "stdout",
     "output_type": "stream",
     "text": [
      "Loading data...\n",
      "    MESSAGES: data/disaster_messages.csv \n",
      "    CATEGORIES: data/disaster_categories.csv \n",
      "Cleaning data...\n",
      "Saving data...\n",
      "    DATABASE: data/DisasterResponse.db\n",
      "Cleaned data saved to database!\n"
     ]
    }
   ],
   "source": [
    "messages_filepath = 'data/disaster_messages.csv '\n",
    "categories_filepath = 'data/disaster_categories.csv '\n",
    "database_filepath = \"data/DisasterResponse.db\"\n",
    "\n",
    "print('Loading data...\\n    MESSAGES: {}\\n    CATEGORIES: {}'\n",
    "      .format(messages_filepath, categories_filepath))\n",
    "df = load_data(messages_filepath, categories_filepath)\n",
    "\n",
    "print('Cleaning data...')\n",
    "df = clean_data(df)\n",
    "\n",
    "print('Saving data...\\n    DATABASE: {}'.format(database_filepath))\n",
    "save_data(df, database_filepath)\n",
    "\n",
    "print('Cleaned data saved to database!')"
   ]
  },
  {
   "cell_type": "code",
   "execution_count": null,
   "metadata": {},
   "outputs": [],
   "source": []
  }
 ],
 "metadata": {
  "kernelspec": {
   "display_name": "Python 3",
   "language": "python",
   "name": "python3"
  },
  "language_info": {
   "codemirror_mode": {
    "name": "ipython",
    "version": 3
   },
   "file_extension": ".py",
   "mimetype": "text/x-python",
   "name": "python",
   "nbconvert_exporter": "python",
   "pygments_lexer": "ipython3",
   "version": "3.6.8"
  }
 },
 "nbformat": 4,
 "nbformat_minor": 2
}
